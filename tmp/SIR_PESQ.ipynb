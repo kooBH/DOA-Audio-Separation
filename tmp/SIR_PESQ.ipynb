{
 "cells": [
  {
   "cell_type": "code",
   "execution_count": 30,
   "id": "004db155-538e-4a84-9b80-a6993f847d9e",
   "metadata": {},
   "outputs": [],
   "source": [
    "from pesq import pesq\n",
    "import librosa\n",
    "import numpy as np"
   ]
  },
  {
   "cell_type": "markdown",
   "id": "5c945ac2-efc8-4810-82ae-b036304a4c6a",
   "metadata": {},
   "source": [
    "# SIR (Signal to Interference Ratio)\n",
    "\n",
    "\n",
    "```MATLAB\n",
    "% Copyright 2008 Emmanuel Vincent\n",
    "% This software is distributed under the terms of the GNU Public License\n",
    "% version 3 (http://www.gnu.org/licenses/gpl.txt)\n",
    "% If you find it useful, please cite the following reference:\n",
    "% Emmanuel Vincent, C�dric F�votte and R�mi Gribonval, \"Performance\n",
    "% measurement in blind audio source separation,\" IEEE Trans. on Audio,\n",
    "% Speech and Language Processing, 14(4):1462-1469, 2006.\n",
    "```\n",
    "\n",
    "https://ieeexplore.ieee.org/stamp/stamp.jsp?tp=&arnumber=1643671"
   ]
  },
  {
   "cell_type": "code",
   "execution_count": 32,
   "id": "a58fc208-556f-434f-9cfc-612cfd28e9bd",
   "metadata": {},
   "outputs": [
    {
     "name": "stdout",
     "output_type": "stream",
     "text": [
      "0\n",
      "(16000,)\n",
      "(16000,)\n",
      "SIR : 19.378488063812256\n",
      "PESQ(wb) : 1.2397656440734863\n",
      "PESQ(nb) : 1.6209020614624023\n",
      "1\n",
      "(16000,)\n",
      "(16000,)\n",
      "SIR : 18.61210823059082\n",
      "PESQ(wb) : 2.105191469192505\n",
      "PESQ(nb) : 2.6784563064575195\n",
      "2\n",
      "(16000,)\n",
      "(16000,)\n",
      "SIR : 9.921001195907593\n",
      "PESQ(wb) : 1.8335928916931152\n",
      "PESQ(nb) : 2.3431551456451416\n",
      "3\n",
      "(16000,)\n",
      "(16000,)\n",
      "SIR : 15.172652006149292\n",
      "PESQ(wb) : 1.7513091564178467\n",
      "PESQ(nb) : 1.973534345626831\n"
     ]
    }
   ],
   "source": [
    "estim=[]\n",
    "\n",
    "target=[]\n",
    "for i in range(4) : \n",
    "    tmp_target, _ = librosa.load(\"target_\"+str(i)+\".wav\",sr=16000)\n",
    "    tmp_estim, _  = librosa.load(\"39_\"+str(i)+\".wav\",sr=16000)\n",
    "\n",
    "    target.append(tmp_target)\n",
    "    estim.append(tmp_estim)\n",
    "\n",
    "s_target = []\n",
    "e_interf = []\n",
    "    \n",
    "for i in range(4) : \n",
    "    s_target.append(np.inner(estim[i],target[i])*target[i]/np.inner(target[i],target[i]))\n",
    "    \n",
    "    tmp = None\n",
    "    for j in range(4) : \n",
    "        if i == j :\n",
    "            continue\n",
    "        if tmp is None : \n",
    "            tmp = np.inner(estim[i],target[j])*target[j]/np.inner(target[j],target[j])\n",
    "        else : \n",
    "            tmp += np.inner(estim[i],target[j])*target[j]/np.inner(target[j],target[j])\n",
    "    e_interf.append(tmp)\n",
    "\n",
    "\n",
    "for i in range(4) : \n",
    "    print(i)\n",
    "    print(s_target[i].shape)\n",
    "    print(e_interf[i].shape)\n",
    "    SIR = 10*np.log10((np.inner(s_target[i],s_target[i]))/np.inner(e_interf[i],e_interf[i]))\n",
    "    print(\"SIR : {}\".format(SIR))\n",
    "\n",
    "    print(\"PESQ(wb) : {}\".format(pesq(16000, target[i], estim[i], 'wb')))\n",
    "    print(\"PESQ(nb) : {}\".format(pesq(16000, target[i], estim[i], 'nb')))\n",
    "    "
   ]
  },
  {
   "cell_type": "markdown",
   "id": "e13a1dc4-f2b7-4a0d-9566-e87167c3da06",
   "metadata": {},
   "source": [
    "bss_eval_toolkit이랑 SIR은 다른데 MATLAB 코드에서는 window 별로 projection 해서 그렇게 되는것 같다. \n",
    "다만 경향성은 동일하기 때문에 괜찮지 않을까? "
   ]
  },
  {
   "cell_type": "markdown",
   "id": "fd85a869-72c9-47a8-9abe-df2f279dd4f5",
   "metadata": {},
   "source": [
    "## SIR & PESQ for Batch Multi-target Multi-channel  \n",
    "\n",
    "clean = [B,N,C,T]  \n",
    "estim = [B,N,C,T]  "
   ]
  },
  {
   "cell_type": "code",
   "execution_count": null,
   "id": "87c1e3a7-f054-4896-a698-b54e38133cdf",
   "metadata": {},
   "outputs": [],
   "source": [
    "\"\"\"\n",
    "    clean : [B,N,C,T]\n",
    "    estim : [B,N,C,T]\n",
    "\"\"\"\n",
    "def SIR(clean,estim) : \n",
    "    SIR = 0\n",
    "    # for Batch\n",
    "    for b in range(clean.shape[0]) : \n",
    "        # for Target\n",
    "        for n in range(clean.shape[1]) : \n",
    "            \n",
    "            s_target = []\n",
    "            e_interf = []\n",
    "            \n",
    "            # for Channel - s\n",
    "            for c in range(clean.shape[2]) : \n",
    "                s_target.append(np.inner(clean[b,n,c,:],target[b,n,c,:])*target[b,n,c,:]/np.inner(target[b,n,c,:],target[b,n,c,:]))\n",
    "                \n",
    "                # for Channel  - i\n",
    "                tmp = None\n",
    "                for j in range(clean.shae[2]) : \n",
    "                    if c == j :\n",
    "                        continue\n",
    "                    if tmp is None : \n",
    "                        tmp = np.inner([b,n,c,:],target[b,n,j,:])*target[b,n,j,:]/np.inner(target[b,n,j,:],target[b,n,j,:])\n",
    "                    else : \n",
    "                        tmp += np.inner([b,n,c,:],target[b,n,j,:])*target[b,n,j,:]/np.inner(target[b,n,j,:],target[b,n,j,:])\n",
    "                e_interf.append(tmp)\n",
    "            \n",
    "            # for Channel - SIR\n",
    "            for c in range(clean.shape[2]) :     \n",
    "                SIR += 10*np.log10((np.inner(s_target[c],s_target[c]))/np.inner(e_interf[c],e_interf[c]))\n",
    "    # mean\n",
    "    SIR /= clean.shape[0]*clean.shape[1]*clean.shape[2]\n",
    "    \n",
    "    \n",
    "\"\"\"\n",
    "    clean : [B,N,C,T]\n",
    "    estim : [B,N,C,T]\n",
    "\"\"\"    \n",
    "def PESQ(clean,estim) : \n",
    "    def SIR(clean,estim) : \n",
    "    SIR = 0\n",
    "    # for Batch\n",
    "    for b in range(clean.shape[0]) : \n",
    "        # for Target\n",
    "        for n in range(clean.shape[1]) : \n",
    "            \n",
    "            s_target = []\n",
    "            e_interf = []\n",
    "            \n",
    "            # for Channel - s\n",
    "            for c in range(clean.shape[2]) : "
   ]
  }
 ],
 "metadata": {
  "kernelspec": {
   "display_name": "Python 3 (ipykernel)",
   "language": "python",
   "name": "python3"
  },
  "language_info": {
   "codemirror_mode": {
    "name": "ipython",
    "version": 3
   },
   "file_extension": ".py",
   "mimetype": "text/x-python",
   "name": "python",
   "nbconvert_exporter": "python",
   "pygments_lexer": "ipython3",
   "version": "3.9.12"
  }
 },
 "nbformat": 4,
 "nbformat_minor": 5
}
