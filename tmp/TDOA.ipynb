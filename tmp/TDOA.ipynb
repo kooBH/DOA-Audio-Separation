{
 "cells": [
  {
   "cell_type": "markdown",
   "id": "6b6ac947-ca11-42ac-b55c-593402a195f0",
   "metadata": {},
   "source": [
    "## TDOA routine Dim Check"
   ]
  },
  {
   "cell_type": "code",
   "execution_count": 1,
   "id": "b2834c37-1fc5-46f6-8337-e897d75deb4c",
   "metadata": {},
   "outputs": [
    {
     "name": "stderr",
     "output_type": "stream",
     "text": [
      "/home/kbh/.conda/envs/dnn/lib/python3.9/site-packages/tqdm/auto.py:22: TqdmWarning: IProgress not found. Please update jupyter and ipywidgets. See https://ipywidgets.readthedocs.io/en/stable/user_install.html\n",
      "  from .autonotebook import tqdm as notebook_tqdm\n"
     ]
    }
   ],
   "source": [
    "import torch"
   ]
  },
  {
   "cell_type": "code",
   "execution_count": 4,
   "id": "fa57cee0-7528-40ed-adb0-40b05350d512",
   "metadata": {},
   "outputs": [],
   "source": [
    "N = 2\n",
    "T = 4\n",
    "C = 3"
   ]
  },
  {
   "cell_type": "code",
   "execution_count": 7,
   "id": "11d6c6ee-2125-45d2-a6b4-25e2f40c8211",
   "metadata": {},
   "outputs": [],
   "source": [
    "loc_src = torch.zeros(N,T,3)\n",
    "TDOA = torch.zeros(N,C,T)\n",
    "mic_pos = torch.zeros(C,3)"
   ]
  },
  {
   "cell_type": "code",
   "execution_count": 8,
   "id": "1054248e-d9ef-4084-8f7e-97f782aad4a2",
   "metadata": {},
   "outputs": [],
   "source": [
    "for i in range(C) : \n",
    "    TDOA[:,i,:] = torch.norm(mic_pos[i,:] - loc_src[:,:,:] )"
   ]
  },
  {
   "cell_type": "code",
   "execution_count": null,
   "id": "3e01dfcd-8c7c-4bb4-bc46-136d45eb81ba",
   "metadata": {},
   "outputs": [],
   "source": []
  }
 ],
 "metadata": {
  "kernelspec": {
   "display_name": "Python 3 (ipykernel)",
   "language": "python",
   "name": "python3"
  },
  "language_info": {
   "codemirror_mode": {
    "name": "ipython",
    "version": 3
   },
   "file_extension": ".py",
   "mimetype": "text/x-python",
   "name": "python",
   "nbconvert_exporter": "python",
   "pygments_lexer": "ipython3",
   "version": "3.9.12"
  }
 },
 "nbformat": 4,
 "nbformat_minor": 5
}
